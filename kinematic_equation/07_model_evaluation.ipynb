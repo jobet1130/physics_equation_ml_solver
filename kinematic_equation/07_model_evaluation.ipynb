{
 "cells": [
  {
   "cell_type": "code",
   "execution_count": null,
   "id": "c71ff129",
   "metadata": {},
   "outputs": [],
   "source": [
    "import pandas as pd\n",
    "import numpy as np\n",
    "import os\n",
    "import matplotlib.pyplot as plt\n",
    "import seaborn as sns\n",
    "import joblib\n",
    "\n",
    "from sklearn.metrics import r2_score, mean_squared_error\n",
    "from gplearn.genetic import SymbolicRegressor\n",
    "\n",
    "sns.set_style(\"whitegrid\")\n",
    "\n",
    "DATA_PATH = \"../../data/processed/kinematic_equation_cleaned_dataset.csv\"\n",
    "\n",
    "if not os.path.exists(DATA_PATH):\n",
    "    raise FileNotFoundError(f\"Feature-engineered dataset not found: {DATA_PATH}\")"
   ]
  }
 ],
 "metadata": {
  "language_info": {
   "name": "python"
  }
 },
 "nbformat": 4,
 "nbformat_minor": 5
}
