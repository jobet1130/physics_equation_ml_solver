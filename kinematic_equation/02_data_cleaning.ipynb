{
 "cells": [
  {
   "cell_type": "code",
   "execution_count": 23,
   "id": "1f5f6126",
   "metadata": {},
   "outputs": [],
   "source": [
    "import pandas as pd \n",
    "import numpy as np \n",
    "import seaborn as sns \n",
    "import matplotlib.pyplot as plt \n",
    "import os\n",
    "\n",
    "sns.set_style(\"whitegrid\")\n",
    "\n",
    "RAW_PATH = \"../../data/raw/kinematic_equation_dataset.csv\"\n",
    "PROCESSED_PATH = \"../../data/processed/kinematic_equation_cleaned_dataset.csv\"\n",
    "\n",
    "if not os.path.exists(RAW_PATH):\n",
    "    raise FileNotFoundError(f\"Raw dataset not found at: {RAW_PATH}\")"
   ]
  },
  {
   "cell_type": "code",
   "execution_count": 24,
   "id": "173083dd",
   "metadata": {},
   "outputs": [
    {
     "name": "stdout",
     "output_type": "stream",
     "text": [
      "🔹 Raw dataset loaded: 3000 rows × 3 columns\n"
     ]
    },
    {
     "data": {
      "application/vnd.microsoft.datawrangler.viewer.v0+json": {
       "columns": [
        {
         "name": "index",
         "rawType": "int64",
         "type": "integer"
        },
        {
         "name": "Acceleration_ms2",
         "rawType": "float64",
         "type": "float"
        },
        {
         "name": "Time_s",
         "rawType": "float64",
         "type": "float"
        },
        {
         "name": "Displacement_m",
         "rawType": "float64",
         "type": "float"
        }
       ],
       "ref": "0882752f-c43f-4654-b84c-22b3eb6e2824",
       "rows": [
        [
         "0",
         "7.803532317523569",
         "6.75975964266809",
         "178.28867014128255"
        ],
        [
         "1",
         "19.038928974993365",
         "7.987145832194586",
         "607.2894633943431"
        ],
        [
         "2",
         "14.7738818653224",
         "2.57963219804574",
         "49.15641525789371"
        ],
        [
         "3",
         "12.173840441842213",
         "6.286253586109289",
         "240.5367298855872"
        ],
        [
         "4",
         "3.542363488627512",
         "5.760285233123112",
         "58.76937948479386"
        ]
       ],
       "shape": {
        "columns": 3,
        "rows": 5
       }
      },
      "text/html": [
       "<div>\n",
       "<style scoped>\n",
       "    .dataframe tbody tr th:only-of-type {\n",
       "        vertical-align: middle;\n",
       "    }\n",
       "\n",
       "    .dataframe tbody tr th {\n",
       "        vertical-align: top;\n",
       "    }\n",
       "\n",
       "    .dataframe thead th {\n",
       "        text-align: right;\n",
       "    }\n",
       "</style>\n",
       "<table border=\"1\" class=\"dataframe\">\n",
       "  <thead>\n",
       "    <tr style=\"text-align: right;\">\n",
       "      <th></th>\n",
       "      <th>Acceleration_ms2</th>\n",
       "      <th>Time_s</th>\n",
       "      <th>Displacement_m</th>\n",
       "    </tr>\n",
       "  </thead>\n",
       "  <tbody>\n",
       "    <tr>\n",
       "      <th>0</th>\n",
       "      <td>7.803532</td>\n",
       "      <td>6.759760</td>\n",
       "      <td>178.288670</td>\n",
       "    </tr>\n",
       "    <tr>\n",
       "      <th>1</th>\n",
       "      <td>19.038929</td>\n",
       "      <td>7.987146</td>\n",
       "      <td>607.289463</td>\n",
       "    </tr>\n",
       "    <tr>\n",
       "      <th>2</th>\n",
       "      <td>14.773882</td>\n",
       "      <td>2.579632</td>\n",
       "      <td>49.156415</td>\n",
       "    </tr>\n",
       "    <tr>\n",
       "      <th>3</th>\n",
       "      <td>12.173840</td>\n",
       "      <td>6.286254</td>\n",
       "      <td>240.536730</td>\n",
       "    </tr>\n",
       "    <tr>\n",
       "      <th>4</th>\n",
       "      <td>3.542363</td>\n",
       "      <td>5.760285</td>\n",
       "      <td>58.769379</td>\n",
       "    </tr>\n",
       "  </tbody>\n",
       "</table>\n",
       "</div>"
      ],
      "text/plain": [
       "   Acceleration_ms2    Time_s  Displacement_m\n",
       "0          7.803532  6.759760      178.288670\n",
       "1         19.038929  7.987146      607.289463\n",
       "2         14.773882  2.579632       49.156415\n",
       "3         12.173840  6.286254      240.536730\n",
       "4          3.542363  5.760285       58.769379"
      ]
     },
     "execution_count": 24,
     "metadata": {},
     "output_type": "execute_result"
    }
   ],
   "source": [
    "\n",
    "df = pd.read_csv(RAW_PATH)\n",
    "print(f\"🔹 Raw dataset loaded: {df.shape[0]} rows × {df.shape[1]} columns\")\n",
    "df.head()"
   ]
  },
  {
   "cell_type": "code",
   "execution_count": 25,
   "id": "8f1f4b8d",
   "metadata": {},
   "outputs": [
    {
     "name": "stdout",
     "output_type": "stream",
     "text": [
      "Missing values:\n",
      " Acceleration_ms2    0\n",
      "Time_s              0\n",
      "Displacement_m      0\n",
      "dtype: int64\n",
      "✅ No missing values found.\n"
     ]
    }
   ],
   "source": [
    "missing = df.isnull().sum()\n",
    "print(\"Missing values:\\n\", missing)\n",
    "\n",
    "if missing.sum() == 0:\n",
    "    print(\"✅ No missing values found.\")\n",
    "else:\n",
    "    print(\"⚠️ Warning: Missing values detected.\")"
   ]
  },
  {
   "cell_type": "code",
   "execution_count": 26,
   "id": "c068f6bf",
   "metadata": {},
   "outputs": [
    {
     "name": "stdout",
     "output_type": "stream",
     "text": [
      "⚠️ Invalid rows to drop: 0\n",
      "✅ Cleaned dataset shape: (3000, 3)\n"
     ]
    }
   ],
   "source": [
    "df_cleaned = df.copy()\n",
    "\n",
    "invalid = df_cleaned[(df_cleaned[\"Acceleration_ms2\"] <= 0) | (df_cleaned[\"Time_s\"] <= 0)]\n",
    "print(f\"⚠️ Invalid rows to drop: {invalid.shape[0]}\")\n",
    "\n",
    "df_cleaned = df_cleaned[(df_cleaned[\"Acceleration_ms2\"] > 0) & (df_cleaned[\"Time_s\"] > 0)]\n",
    "print(f\"✅ Cleaned dataset shape: {df_cleaned.shape}\")"
   ]
  },
  {
   "cell_type": "code",
   "execution_count": 27,
   "id": "75e310ed",
   "metadata": {},
   "outputs": [
    {
     "name": "stdout",
     "output_type": "stream",
     "text": [
      "✅ Removed 0 rows due to displacement inconsistency.\n"
     ]
    }
   ],
   "source": [
    "df_cleaned[\"recomputed_displacement\"] = 0.5 * df_cleaned[\"Acceleration_ms2\"] * df_cleaned[\"Time_s\"] ** 2\n",
    "df_cleaned[\"error\"] = np.abs(df_cleaned[\"recomputed_displacement\"] - df_cleaned[\"Displacement_m\"])\n",
    "\n",
    "tolerance = 1e-6\n",
    "initial = df_cleaned.shape[0]\n",
    "df_cleaned = df_cleaned[df_cleaned[\"error\"] < tolerance]\n",
    "print(f\"✅ Removed {initial - df_cleaned.shape[0]} rows due to displacement inconsistency.\")"
   ]
  },
  {
   "cell_type": "code",
   "execution_count": 28,
   "id": "82b5cee1",
   "metadata": {},
   "outputs": [
    {
     "name": "stdout",
     "output_type": "stream",
     "text": [
      "✅ Cleaned dataset saved to: ../../data/processed/kinematic_equation_cleaned_dataset.csv\n"
     ]
    }
   ],
   "source": [
    "df_cleaned.drop(columns=[\"recomputed_displacement\", \"error\"], inplace=True)\n",
    "\n",
    "os.makedirs(os.path.dirname(PROCESSED_PATH), exist_ok=True)\n",
    "\n",
    "df_cleaned.to_csv(PROCESSED_PATH, index=False)\n",
    "print(f\"✅ Cleaned dataset saved to: {PROCESSED_PATH}\")"
   ]
  },
  {
   "cell_type": "code",
   "execution_count": 29,
   "id": "88ab45fa",
   "metadata": {},
   "outputs": [
    {
     "data": {
      "image/png": "[encoded data removed]",
      "text/plain": [
       "<Figure size 1200x600 with 3 Axes>"
      ]
     },
     "metadata": {},
     "output_type": "display_data"
    }
   ],
   "source": [
    "plt.figure(figsize=(12, 6))\n",
    "\n",
    "plt.subplot(1, 3, 1)\n",
    "sns.histplot(df_cleaned[\"Acceleration_ms2\"], bins=30, color=\"dodgerblue\")\n",
    "plt.title(\"Acceleration (m/s²) - Cleaned\")\n",
    "\n",
    "plt.subplot(1, 3, 2)\n",
    "sns.histplot(df_cleaned[\"Time_s\"], bins=30, color=\"tomato\")\n",
    "plt.title(\"Time (s) - Cleaned\")\n",
    "\n",
    "plt.subplot(1, 3, 3)\n",
    "sns.histplot(df_cleaned[\"Displacement_m\"], bins=30, color=\"mediumseagreen\")\n",
    "plt.title(\"Displacement (m) - Cleaned\")\n",
    "\n",
    "plt.tight_layout()\n",
    "plt.show()\n"
   ]
  }
 ],
 "metadata": {
  "kernelspec": {
   "display_name": "base",
   "language": "python",
   "name": "python3"
  },
  "language_info": {
   "codemirror_mode": {
    "name": "ipython",
    "version": 3
   },
   "file_extension": ".py",
   "mimetype": "text/x-python",
   "name": "python",
   "nbconvert_exporter": "python",
   "pygments_lexer": "ipython3",
   "version": "3.12.7"
  }
 },
 "nbformat": 4,
 "nbformat_minor": 5
}
