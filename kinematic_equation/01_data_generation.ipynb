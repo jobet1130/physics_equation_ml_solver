{
 "cells": [
  {
   "cell_type": "code",
   "execution_count": null,
   "id": "9c1f7360",
   "metadata": {},
   "outputs": [],
   "source": [
    "import pandas as pd\n",
    "import numpy as np\n",
    "import matplotlib.pyplot as plt\n",
    "import seaborn as sns\n",
    "import os\n",
    "\n",
    "sns.set_style(\"whitegrid\")\n",
    "\n",
    "DATA_PATH = \"../../data/raw/kinematic_equation_dataset.csv\"\n",
    "\n",
    "if not os.path.exists(DATA_PATH):\n",
    "    raise FileNotFoundError(f\"Dataset not found at path: {DATA_PATH}\")"
   ]
  },
  {
   "cell_type": "code",
   "execution_count": null,
   "id": "c1dfb8df",
   "metadata": {},
   "outputs": [
    {
     "name": "stdout",
     "output_type": "stream",
     "text": [
      "Dataset loaded: 3000 rows x 3 columns\n"
     ]
    },
    {
     "data": {
      "application/vnd.microsoft.datawrangler.viewer.v0+json": {
       "columns": [
        {
         "name": "index",
         "rawType": "int64",
         "type": "integer"
        },
        {
         "name": "Acceleration_ms2",
         "rawType": "float64",
         "type": "float"
        },
        {
         "name": "Time_s",
         "rawType": "float64",
         "type": "float"
        },
        {
         "name": "Displacement_m",
         "rawType": "float64",
         "type": "float"
        }
       ],
       "ref": "4778e1dc-795f-49b8-a6bb-2d50c870ec25",
       "rows": [
        [
         "0",
         "7.803532317523569",
         "6.75975964266809",
         "178.28867014128255"
        ],
        [
         "1",
         "19.038928974993365",
         "7.987145832194586",
         "607.2894633943431"
        ],
        [
         "2",
         "14.7738818653224",
         "2.57963219804574",
         "49.15641525789371"
        ],
        [
         "3",
         "12.173840441842213",
         "6.286253586109289",
         "240.5367298855872"
        ],
        [
         "4",
         "3.542363488627512",
         "5.760285233123112",
         "58.76937948479386"
        ]
       ],
       "shape": {
        "columns": 3,
        "rows": 5
       }
      },
      "text/html": [
       "<div>\n",
       "<style scoped>\n",
       "    .dataframe tbody tr th:only-of-type {\n",
       "        vertical-align: middle;\n",
       "    }\n",
       "\n",
       "    .dataframe tbody tr th {\n",
       "        vertical-align: top;\n",
       "    }\n",
       "\n",
       "    .dataframe thead th {\n",
       "        text-align: right;\n",
       "    }\n",
       "</style>\n",
       "<table border=\"1\" class=\"dataframe\">\n",
       "  <thead>\n",
       "    <tr style=\"text-align: right;\">\n",
       "      <th></th>\n",
       "      <th>Acceleration_ms2</th>\n",
       "      <th>Time_s</th>\n",
       "      <th>Displacement_m</th>\n",
       "    </tr>\n",
       "  </thead>\n",
       "  <tbody>\n",
       "    <tr>\n",
       "      <th>0</th>\n",
       "      <td>7.803532</td>\n",
       "      <td>6.759760</td>\n",
       "      <td>178.288670</td>\n",
       "    </tr>\n",
       "    <tr>\n",
       "      <th>1</th>\n",
       "      <td>19.038929</td>\n",
       "      <td>7.987146</td>\n",
       "      <td>607.289463</td>\n",
       "    </tr>\n",
       "    <tr>\n",
       "      <th>2</th>\n",
       "      <td>14.773882</td>\n",
       "      <td>2.579632</td>\n",
       "      <td>49.156415</td>\n",
       "    </tr>\n",
       "    <tr>\n",
       "      <th>3</th>\n",
       "      <td>12.173840</td>\n",
       "      <td>6.286254</td>\n",
       "      <td>240.536730</td>\n",
       "    </tr>\n",
       "    <tr>\n",
       "      <th>4</th>\n",
       "      <td>3.542363</td>\n",
       "      <td>5.760285</td>\n",
       "      <td>58.769379</td>\n",
       "    </tr>\n",
       "  </tbody>\n",
       "</table>\n",
       "</div>"
      ],
      "text/plain": [
       "   Acceleration_ms2    Time_s  Displacement_m\n",
       "0          7.803532  6.759760      178.288670\n",
       "1         19.038929  7.987146      607.289463\n",
       "2         14.773882  2.579632       49.156415\n",
       "3         12.173840  6.286254      240.536730\n",
       "4          3.542363  5.760285       58.769379"
      ]
     },
     "execution_count": 7,
     "metadata": {},
     "output_type": "execute_result"
    }
   ],
   "source": [
    "df = pd.read_csv(DATA_PATH)\n",
    "\n",
    "print(f\"Dataset loaded: {df.shape[0]} rows x {df.shape[1]} columns\")\n",
    "df.head()"
   ]
  },
  {
   "cell_type": "code",
   "execution_count": null,
   "id": "b83e5beb",
   "metadata": {},
   "outputs": [
    {
     "name": "stdout",
     "output_type": "stream",
     "text": [
      "Max error: 5.684342e-13\n",
      "Mean error: 1.306305e-14\n",
      "✅ Displacement values are physically consistent.\n"
     ]
    }
   ],
   "source": [
    "df[\"computed_displacement\"] = 0.5 * df[\"Acceleration_ms2\"] * df[\"Time_s\"]**2\n",
    "df[\"abs_error\"] = np.abs(df[\"computed_displacement\"] - df[\"Displacement_m\"])\n",
    "\n",
    "max_error = df[\"abs_error\"].max()\n",
    "mean_error = df[\"abs_error\"].mean()\n",
    "tolerance = 1e-6\n",
    "\n",
    "print(f\"Max error: {max_error:.6e}\")\n",
    "print(f\"Mean error: {mean_error:.6e}\")\n",
    "\n",
    "if max_error < tolerance:\n",
    "    print(\"Displacement values are physically consistent.\")\n",
    "else:\n",
    "    print(\"Displacement values deviate beyond acceptable tolerance.\")"
   ]
  },
  {
   "cell_type": "code",
   "execution_count": null,
   "id": "39551ea0",
   "metadata": {},
   "outputs": [],
   "source": [
    "fig, axs = plt.subplots(1, 3, figsize=(18, 4))\n",
    "\n",
    "sns.histplot(df[\"Acceleration_ms2\"], kde=True, ax=axs[0], color=\"steelblue\")\n",
    "axs[0].set_title(\"Acceleration Distribution (m/s²)\")\n",
    "\n",
    "sns.histplot(df[\"Time_s\"], kde=True, ax=axs[1], color=\"darkorange\")\n",
    "axs[1].set_title(\"Time Distribution (s)\")\n",
    "\n",
    "sns.histplot(df[\"Displacement_m\"], kde=True, ax=axs[2], color=\"seagreen\")\n",
    "axs[2].set_title(\"Displacement Distribution (m)\")\n",
    "\n",
    "plt.tight_layout()\n",
    "plt.show()"
   ]
  },
  {
   "cell_type": "code",
   "execution_count": null,
   "id": "94421abb",
   "metadata": {},
   "outputs": [],
   "source": [
    "\n",
    "corr = df[[\"Acceleration_ms2\", \"Time_s\", \"Displacement_m\"]].corr()\n",
    "sns.heatmap(corr, annot=True, cmap=\"viridis\", fmt=\".2f\")\n",
    "plt.title(\"Correlation Matrix\")\n",
    "plt.show()"
   ]
  }
 ],
 "metadata": {
  "kernelspec": {
   "display_name": "base",
   "language": "python",
   "name": "python3"
  },
  "language_info": {
   "codemirror_mode": {
    "name": "ipython",
    "version": 3
   },
   "file_extension": ".py",
   "mimetype": "text/x-python",
   "name": "python",
   "nbconvert_exporter": "python",
   "pygments_lexer": "ipython3",
   "version": "3.12.7"
  }
 },
 "nbformat": 4,
 "nbformat_minor": 5
}
