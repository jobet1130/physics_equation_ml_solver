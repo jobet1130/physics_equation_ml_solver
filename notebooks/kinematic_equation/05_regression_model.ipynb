{
 "cells": [
  {
   "cell_type": "code",
   "execution_count": 22,
   "id": "26d25e53",
   "metadata": {},
   "outputs": [],
   "source": [
    "import pandas as pd\n",
    "import numpy as np\n",
    "import os\n",
    "from sklearn.model_selection import train_test_split\n",
    "from sklearn.linear_model import LinearRegression\n",
    "from sklearn.metrics import mean_squared_error, r2_score\n",
    "import matplotlib.pyplot as plt\n",
    "import seaborn as sns\n",
    "\n",
    "sns.set_style(\"whitegrid\")\n",
    "\n",
    "DATA_PATH = \"../../data/processed/kinematic_equation_cleaned_dataset.csv\"\n",
    "\n",
    "if not os.path.exists(DATA_PATH):\n",
    "    raise FileNotFoundError(f\"Feature-engineered dataset not found at: {DATA_PATH}\")"
   ]
  },
  {
   "cell_type": "code",
   "execution_count": 23,
   "id": "8ee8af1b",
   "metadata": {},
   "outputs": [
    {
     "name": "stdout",
     "output_type": "stream",
     "text": [
      "Loaded dataset: 3000 rows × 7 columns\n"
     ]
    },
    {
     "data": {
      "application/vnd.microsoft.datawrangler.viewer.v0+json": {
       "columns": [
        {
         "name": "index",
         "rawType": "int64",
         "type": "integer"
        },
        {
         "name": "Acceleration_ms2",
         "rawType": "float64",
         "type": "float"
        },
        {
         "name": "Time_s",
         "rawType": "float64",
         "type": "float"
        },
        {
         "name": "Displacement_m",
         "rawType": "float64",
         "type": "float"
        },
        {
         "name": "a_times_t2",
         "rawType": "float64",
         "type": "float"
        },
        {
         "name": "log_acceleration",
         "rawType": "float64",
         "type": "float"
        },
        {
         "name": "log_time",
         "rawType": "float64",
         "type": "float"
        },
        {
         "name": "log_displacement",
         "rawType": "float64",
         "type": "float"
        }
       ],
       "ref": "360fa09b-ac02-4409-9541-6b5b509aa210",
       "rows": [
        [
         "0",
         "7.803532317523569",
         "6.75975964266809",
         "178.28867014128255",
         "356.5773402825651",
         "2.0545764924058214",
         "1.91098733360442",
         "5.183403979054716"
        ],
        [
         "1",
         "19.038928974993365",
         "7.987145832194586",
         "607.2894633943431",
         "1214.5789267886862",
         "2.9464857764676813",
         "2.077833478463266",
         "6.409005552834268"
        ],
        [
         "2",
         "14.7738818653224",
         "2.57963219804574",
         "49.15641525789371",
         "98.31283051578744",
         "2.692860882954528",
         "0.9476468298740406",
         "3.895007362142664"
        ],
        [
         "3",
         "12.173840441842213",
         "6.286253586109289",
         "240.5367298855872",
         "481.0734597711744",
         "2.499289423516499",
         "1.838365278972642",
         "5.482872800901838"
        ],
        [
         "4",
         "3.542363488627512",
         "5.760285233123112",
         "58.76937948479386",
         "117.53875896958772",
         "1.2647941565198022",
         "1.750986993121172",
         "4.0736209622022015"
        ]
       ],
       "shape": {
        "columns": 7,
        "rows": 5
       }
      },
      "text/html": [
       "<div>\n",
       "<style scoped>\n",
       "    .dataframe tbody tr th:only-of-type {\n",
       "        vertical-align: middle;\n",
       "    }\n",
       "\n",
       "    .dataframe tbody tr th {\n",
       "        vertical-align: top;\n",
       "    }\n",
       "\n",
       "    .dataframe thead th {\n",
       "        text-align: right;\n",
       "    }\n",
       "</style>\n",
       "<table border=\"1\" class=\"dataframe\">\n",
       "  <thead>\n",
       "    <tr style=\"text-align: right;\">\n",
       "      <th></th>\n",
       "      <th>Acceleration_ms2</th>\n",
       "      <th>Time_s</th>\n",
       "      <th>Displacement_m</th>\n",
       "      <th>a_times_t2</th>\n",
       "      <th>log_acceleration</th>\n",
       "      <th>log_time</th>\n",
       "      <th>log_displacement</th>\n",
       "    </tr>\n",
       "  </thead>\n",
       "  <tbody>\n",
       "    <tr>\n",
       "      <th>0</th>\n",
       "      <td>7.803532</td>\n",
       "      <td>6.759760</td>\n",
       "      <td>178.288670</td>\n",
       "      <td>356.577340</td>\n",
       "      <td>2.054576</td>\n",
       "      <td>1.910987</td>\n",
       "      <td>5.183404</td>\n",
       "    </tr>\n",
       "    <tr>\n",
       "      <th>1</th>\n",
       "      <td>19.038929</td>\n",
       "      <td>7.987146</td>\n",
       "      <td>607.289463</td>\n",
       "      <td>1214.578927</td>\n",
       "      <td>2.946486</td>\n",
       "      <td>2.077833</td>\n",
       "      <td>6.409006</td>\n",
       "    </tr>\n",
       "    <tr>\n",
       "      <th>2</th>\n",
       "      <td>14.773882</td>\n",
       "      <td>2.579632</td>\n",
       "      <td>49.156415</td>\n",
       "      <td>98.312831</td>\n",
       "      <td>2.692861</td>\n",
       "      <td>0.947647</td>\n",
       "      <td>3.895007</td>\n",
       "    </tr>\n",
       "    <tr>\n",
       "      <th>3</th>\n",
       "      <td>12.173840</td>\n",
       "      <td>6.286254</td>\n",
       "      <td>240.536730</td>\n",
       "      <td>481.073460</td>\n",
       "      <td>2.499289</td>\n",
       "      <td>1.838365</td>\n",
       "      <td>5.482873</td>\n",
       "    </tr>\n",
       "    <tr>\n",
       "      <th>4</th>\n",
       "      <td>3.542363</td>\n",
       "      <td>5.760285</td>\n",
       "      <td>58.769379</td>\n",
       "      <td>117.538759</td>\n",
       "      <td>1.264794</td>\n",
       "      <td>1.750987</td>\n",
       "      <td>4.073621</td>\n",
       "    </tr>\n",
       "  </tbody>\n",
       "</table>\n",
       "</div>"
      ],
      "text/plain": [
       "   Acceleration_ms2    Time_s  Displacement_m   a_times_t2  log_acceleration  \\\n",
       "0          7.803532  6.759760      178.288670   356.577340          2.054576   \n",
       "1         19.038929  7.987146      607.289463  1214.578927          2.946486   \n",
       "2         14.773882  2.579632       49.156415    98.312831          2.692861   \n",
       "3         12.173840  6.286254      240.536730   481.073460          2.499289   \n",
       "4          3.542363  5.760285       58.769379   117.538759          1.264794   \n",
       "\n",
       "   log_time  log_displacement  \n",
       "0  1.910987          5.183404  \n",
       "1  2.077833          6.409006  \n",
       "2  0.947647          3.895007  \n",
       "3  1.838365          5.482873  \n",
       "4  1.750987          4.073621  "
      ]
     },
     "execution_count": 23,
     "metadata": {},
     "output_type": "execute_result"
    }
   ],
   "source": [
    "df = pd.read_csv(DATA_PATH)\n",
    "print(f\"Loaded dataset: {df.shape[0]} rows × {df.shape[1]} columns\")\n",
    "df.head()"
   ]
  },
  {
   "cell_type": "code",
   "execution_count": 24,
   "id": "d54cf1aa",
   "metadata": {},
   "outputs": [
    {
     "name": "stdout",
     "output_type": "stream",
     "text": [
      "Train set: (2400, 3), Test set: (600, 3)\n"
     ]
    }
   ],
   "source": [
    "features = [\"Acceleration_ms2\", \"Time_s\", \"a_times_t2\"]\n",
    "target = \"Displacement_m\"\n",
    "\n",
    "X = df[features]\n",
    "y = df[target]\n",
    "\n",
    "X_train, X_test, y_train, y_test = train_test_split(\n",
    "    X, y, test_size=0.2, random_state=42\n",
    ")\n",
    "\n",
    "print(f\"Train set: {X_train.shape}, Test set: {X_test.shape}\")"
   ]
  },
  {
   "cell_type": "code",
   "execution_count": 25,
   "id": "d0c37472",
   "metadata": {},
   "outputs": [
    {
     "name": "stdout",
     "output_type": "stream",
     "text": [
      "✅ Model trained.\n",
      "Intercept: 5.684341886080802e-14\n",
      "Coefficients: {'Acceleration_ms2': 1.7722164267361872e-14, 'Time_s': 2.425837308805967e-14, 'a_times_t2': 0.49999999999999883}\n"
     ]
    }
   ],
   "source": [
    "model = LinearRegression()\n",
    "model.fit(X_train, y_train)\n",
    "\n",
    "print(\"✅ Model trained.\")\n",
    "print(\"Intercept:\", model.intercept_)\n",
    "print(\"Coefficients:\", dict(zip(features, model.coef_)))"
   ]
  },
  {
   "cell_type": "code",
   "execution_count": 26,
   "id": "95b259f1",
   "metadata": {},
   "outputs": [
    {
     "name": "stdout",
     "output_type": "stream",
     "text": [
      "📈 R² Score: 1.0000\n",
      "📉 RMSE: 0.0000\n"
     ]
    }
   ],
   "source": [
    "y_pred = model.predict(X_test)\n",
    "\n",
    "mse = mean_squared_error(y_test, y_pred)\n",
    "rmse = np.sqrt(mse)\n",
    "r2 = r2_score(y_test, y_pred)\n",
    "\n",
    "print(f\"📈 R² Score: {r2:.4f}\")\n",
    "print(f\"📉 RMSE: {rmse:.4f}\")"
   ]
  },
  {
   "cell_type": "code",
   "execution_count": 27,
   "id": "1e933488",
   "metadata": {},
   "outputs": [
    {
     "data": {
      "image/png": "[encoded data removed]",
      "text/plain": [
       "<Figure size 1200x600 with 1 Axes>"
      ]
     },
     "metadata": {},
     "output_type": "display_data"
    }
   ],
   "source": [
    "plt.figure(figsize=(12, 6))\n",
    "sns.scatterplot(x=y_test, y=y_pred, alpha=0.6, color=\"dodgerblue\")\n",
    "plt.plot([y.min(), y.max()], [y.min(), y.max()], '--', color='gray')\n",
    "plt.xlabel(\"Actual Displacement (m)\")\n",
    "plt.ylabel(\"Predicted Displacement (m)\")\n",
    "plt.title(\"Actual vs Predicted Displacement\")\n",
    "plt.tight_layout()\n",
    "plt.show()"
   ]
  },
  {
   "cell_type": "code",
   "execution_count": 28,
   "id": "fc8427b8",
   "metadata": {},
   "outputs": [
    {
     "name": "stdout",
     "output_type": "stream",
     "text": [
      "Model saved to models/kinematic_equation_regression_model.pkl\n"
     ]
    }
   ],
   "source": [
    "import joblib\n",
    "\n",
    "os.makedirs(\"../../models/\", exist_ok=True)\n",
    "joblib.dump(model, \"../../models/kinematic_equation_regression_model.pkl\")\n",
    "print(\"Model saved to models/kinematic_equation_regression_model.pkl\")"
   ]
  }
 ],
 "metadata": {
  "kernelspec": {
   "display_name": "base",
   "language": "python",
   "name": "python3"
  },
  "language_info": {
   "codemirror_mode": {
    "name": "ipython",
    "version": 3
   },
   "file_extension": ".py",
   "mimetype": "text/x-python",
   "name": "python",
   "nbconvert_exporter": "python",
   "pygments_lexer": "ipython3",
   "version": "3.12.7"
  }
 },
 "nbformat": 4,
 "nbformat_minor": 5
}
