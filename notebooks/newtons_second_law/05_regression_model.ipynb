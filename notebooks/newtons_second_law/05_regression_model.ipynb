{
 "cells": [
  {
   "cell_type": "code",
   "execution_count": 1,
   "id": "26249428",
   "metadata": {},
   "outputs": [],
   "source": [
    "import pandas as pd\n",
    "import numpy as np\n",
    "import os\n",
    "from sklearn.model_selection import train_test_split\n",
    "from sklearn.linear_model import LinearRegression\n",
    "from sklearn.metrics import mean_squared_error, r2_score\n",
    "import matplotlib.pyplot as plt\n",
    "import seaborn as sns\n",
    "\n",
    "sns.set_style(\"whitegrid\")\n",
    "\n",
    "DATA_PATH = \"../../data/processed/newtons_second_law_cleaned_dataset.csv\"\n",
    "\n",
    "if not os.path.exists(DATA_PATH):\n",
    "    raise FileNotFoundError(f\"Feature-engineered dataset not found at: {DATA_PATH}\")"
   ]
  },
  {
   "cell_type": "code",
   "execution_count": 2,
   "id": "97efdaed",
   "metadata": {},
   "outputs": [
    {
     "name": "stdout",
     "output_type": "stream",
     "text": [
      "Loaded dataset: 3000 rows × 7 columns\n"
     ]
    },
    {
     "data": {
      "application/vnd.microsoft.datawrangler.viewer.v0+json": {
       "columns": [
        {
         "name": "index",
         "rawType": "int64",
         "type": "integer"
        },
        {
         "name": "Mass_kg",
         "rawType": "float64",
         "type": "float"
        },
        {
         "name": "Acceleration_ms2",
         "rawType": "float64",
         "type": "float"
        },
        {
         "name": "Force_N",
         "rawType": "float64",
         "type": "float"
        },
        {
         "name": "mass_x_acceleration",
         "rawType": "float64",
         "type": "float"
        },
        {
         "name": "log_mass",
         "rawType": "float64",
         "type": "float"
        },
        {
         "name": "log_acceleration",
         "rawType": "float64",
         "type": "float"
        },
        {
         "name": "log_force",
         "rawType": "float64",
         "type": "float"
        }
       ],
       "ref": "9dd25d7e-8d8a-4b4e-ab73-9e8cb265b38a",
       "rows": [
        [
         "0",
         "4.058131129049944",
         "13.48678958475707",
         "54.731160644849226",
         "54.73116064484924",
         "1.4007225545951845",
         "2.6017106570752166",
         "4.002433211670401"
        ],
        [
         "1",
         "9.531785910894204",
         "15.953959804108308",
         "152.06972928377203",
         "152.06972928377203",
         "2.254632098943792",
         "2.7697070619990085",
         "5.0243391609428"
        ],
        [
         "2",
         "7.453942447208348",
         "5.084311185970729",
         "37.89816296392343",
         "37.89816296392343",
         "2.0087430799658623",
         "1.6261595603389",
         "3.6349026403047615"
        ],
        [
         "3",
         "6.187255599871848",
         "12.534994582179277",
         "77.557215422952",
         "77.557215422952",
         "1.822491628104092",
         "2.528524299394709",
         "4.351015927498801"
        ],
        [
         "4",
         "1.982177084203147",
         "11.477745064560596",
         "22.750923245297788",
         "22.750923245297784",
         "0.684195778134192",
         "2.4404099486502235",
         "3.124605726784416"
        ]
       ],
       "shape": {
        "columns": 7,
        "rows": 5
       }
      },
      "text/html": [
       "<div>\n",
       "<style scoped>\n",
       "    .dataframe tbody tr th:only-of-type {\n",
       "        vertical-align: middle;\n",
       "    }\n",
       "\n",
       "    .dataframe tbody tr th {\n",
       "        vertical-align: top;\n",
       "    }\n",
       "\n",
       "    .dataframe thead th {\n",
       "        text-align: right;\n",
       "    }\n",
       "</style>\n",
       "<table border=\"1\" class=\"dataframe\">\n",
       "  <thead>\n",
       "    <tr style=\"text-align: right;\">\n",
       "      <th></th>\n",
       "      <th>Mass_kg</th>\n",
       "      <th>Acceleration_ms2</th>\n",
       "      <th>Force_N</th>\n",
       "      <th>mass_x_acceleration</th>\n",
       "      <th>log_mass</th>\n",
       "      <th>log_acceleration</th>\n",
       "      <th>log_force</th>\n",
       "    </tr>\n",
       "  </thead>\n",
       "  <tbody>\n",
       "    <tr>\n",
       "      <th>0</th>\n",
       "      <td>4.058131</td>\n",
       "      <td>13.486790</td>\n",
       "      <td>54.731161</td>\n",
       "      <td>54.731161</td>\n",
       "      <td>1.400723</td>\n",
       "      <td>2.601711</td>\n",
       "      <td>4.002433</td>\n",
       "    </tr>\n",
       "    <tr>\n",
       "      <th>1</th>\n",
       "      <td>9.531786</td>\n",
       "      <td>15.953960</td>\n",
       "      <td>152.069729</td>\n",
       "      <td>152.069729</td>\n",
       "      <td>2.254632</td>\n",
       "      <td>2.769707</td>\n",
       "      <td>5.024339</td>\n",
       "    </tr>\n",
       "    <tr>\n",
       "      <th>2</th>\n",
       "      <td>7.453942</td>\n",
       "      <td>5.084311</td>\n",
       "      <td>37.898163</td>\n",
       "      <td>37.898163</td>\n",
       "      <td>2.008743</td>\n",
       "      <td>1.626160</td>\n",
       "      <td>3.634903</td>\n",
       "    </tr>\n",
       "    <tr>\n",
       "      <th>3</th>\n",
       "      <td>6.187256</td>\n",
       "      <td>12.534995</td>\n",
       "      <td>77.557215</td>\n",
       "      <td>77.557215</td>\n",
       "      <td>1.822492</td>\n",
       "      <td>2.528524</td>\n",
       "      <td>4.351016</td>\n",
       "    </tr>\n",
       "    <tr>\n",
       "      <th>4</th>\n",
       "      <td>1.982177</td>\n",
       "      <td>11.477745</td>\n",
       "      <td>22.750923</td>\n",
       "      <td>22.750923</td>\n",
       "      <td>0.684196</td>\n",
       "      <td>2.440410</td>\n",
       "      <td>3.124606</td>\n",
       "    </tr>\n",
       "  </tbody>\n",
       "</table>\n",
       "</div>"
      ],
      "text/plain": [
       "    Mass_kg  Acceleration_ms2     Force_N  mass_x_acceleration  log_mass  \\\n",
       "0  4.058131         13.486790   54.731161            54.731161  1.400723   \n",
       "1  9.531786         15.953960  152.069729           152.069729  2.254632   \n",
       "2  7.453942          5.084311   37.898163            37.898163  2.008743   \n",
       "3  6.187256         12.534995   77.557215            77.557215  1.822492   \n",
       "4  1.982177         11.477745   22.750923            22.750923  0.684196   \n",
       "\n",
       "   log_acceleration  log_force  \n",
       "0          2.601711   4.002433  \n",
       "1          2.769707   5.024339  \n",
       "2          1.626160   3.634903  \n",
       "3          2.528524   4.351016  \n",
       "4          2.440410   3.124606  "
      ]
     },
     "execution_count": 2,
     "metadata": {},
     "output_type": "execute_result"
    }
   ],
   "source": [
    "df = pd.read_csv(DATA_PATH)\n",
    "print(f\"Loaded dataset: {df.shape[0]} rows × {df.shape[1]} columns\")\n",
    "df.head()"
   ]
  },
  {
   "cell_type": "code",
   "execution_count": 3,
   "id": "9c7fd3fa",
   "metadata": {},
   "outputs": [
    {
     "name": "stdout",
     "output_type": "stream",
     "text": [
      "Train set: (2400, 3), Test set: (600, 3)\n"
     ]
    }
   ],
   "source": [
    "features = [\"Mass_kg\", \"Acceleration_ms2\", \"mass_x_acceleration\"]\n",
    "target = \"Force_N\"\n",
    "\n",
    "X = df[features]\n",
    "y = df[target]\n",
    "\n",
    "X_train, X_test, y_train, y_test = train_test_split(\n",
    "    X, y, test_size=0.2, random_state=42\n",
    ")\n",
    "\n",
    "print(f\"Train set: {X_train.shape}, Test set: {X_test.shape}\")"
   ]
  },
  {
   "cell_type": "code",
   "execution_count": 4,
   "id": "8f4de067",
   "metadata": {},
   "outputs": [
    {
     "name": "stdout",
     "output_type": "stream",
     "text": [
      "✅ Model trained.\n",
      "Intercept: 0.0\n",
      "Coefficients: {'Mass_kg': 3.9532465334546214e-15, 'Acceleration_ms2': -3.3306690738754696e-16, 'mass_x_acceleration': 0.9999999999999997}\n"
     ]
    }
   ],
   "source": [
    "model = LinearRegression()\n",
    "model.fit(X_train, y_train)\n",
    "\n",
    "print(\"✅ Model trained.\")\n",
    "print(\"Intercept:\", model.intercept_)\n",
    "print(\"Coefficients:\", dict(zip(features, model.coef_)))"
   ]
  },
  {
   "cell_type": "code",
   "execution_count": 5,
   "id": "2c56067f",
   "metadata": {},
   "outputs": [
    {
     "name": "stdout",
     "output_type": "stream",
     "text": [
      "📈 R² Score: 1.0000\n",
      "📉 RMSE: 0.0000\n"
     ]
    }
   ],
   "source": [
    "y_pred = model.predict(X_test)\n",
    "\n",
    "mse = mean_squared_error(y_test, y_pred)\n",
    "rmse = np.sqrt(mse)\n",
    "r2 = r2_score(y_test, y_pred)\n",
    "\n",
    "print(f\"📈 R² Score: {r2:.4f}\")\n",
    "print(f\"📉 RMSE: {rmse:.4f}\")"
   ]
  },
  {
   "cell_type": "code",
   "execution_count": 6,
   "id": "ec21b377",
   "metadata": {},
   "outputs": [
    {
     "data": {
      "image/png": "[encoded data removed]",
      "text/plain": [
       "<Figure size 1200x600 with 1 Axes>"
      ]
     },
     "metadata": {},
     "output_type": "display_data"
    }
   ],
   "source": [
    "plt.figure(figsize=(12, 6))\n",
    "sns.scatterplot(x=y_test, y=y_pred, alpha=0.6, color=\"dodgerblue\")\n",
    "plt.plot([y.min(), y.max()], [y.min(), y.max()], '--', color='gray')\n",
    "plt.xlabel(\"Actual Force (N)\")\n",
    "plt.ylabel(\"Predicted Force (N)\")\n",
    "plt.title(\"Actual vs Predicted Force\")\n",
    "plt.tight_layout()\n",
    "plt.show()"
   ]
  },
  {
   "cell_type": "code",
   "execution_count": 7,
   "id": "d2d6897b",
   "metadata": {},
   "outputs": [
    {
     "name": "stdout",
     "output_type": "stream",
     "text": [
      "Model saved to models/newtons_law_regression_model.pkl\n"
     ]
    }
   ],
   "source": [
    "import joblib\n",
    "os.makedirs(\"../../models/\", exist_ok=True)\n",
    "joblib.dump(model, \"../../models/newtons_law_regression_model.pkl\")\n",
    "print(\"Model saved to models/newtons_law_regression_model.pkl\")\n"
   ]
  }
 ],
 "metadata": {
  "kernelspec": {
   "display_name": "base",
   "language": "python",
   "name": "python3"
  },
  "language_info": {
   "codemirror_mode": {
    "name": "ipython",
    "version": 3
   },
   "file_extension": ".py",
   "mimetype": "text/x-python",
   "name": "python",
   "nbconvert_exporter": "python",
   "pygments_lexer": "ipython3",
   "version": "3.12.7"
  }
 },
 "nbformat": 4,
 "nbformat_minor": 5
}
