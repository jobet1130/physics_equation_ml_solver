{
 "cells": [
  {
   "cell_type": "code",
   "execution_count": null,
   "id": "26249428",
   "metadata": {},
   "outputs": [],
   "source": [
    "import pandas as pd\n",
    "import numpy as np\n",
    "import os\n",
    "from sklearn.model_selection import train_test_split\n",
    "from sklearn.linear_model import LinearRegression\n",
    "from sklearn.metrics import mean_squared_error, r2_score\n",
    "import matplotlib.pyplot as plt\n",
    "import seaborn as sns\n",
    "\n",
    "sns.set_style(\"whitegrid\")\n",
    "\n",
    "DATA_PATH = \"../../data/processed/newtons_second_law_cleaned_dataset.csv\"\n",
    "\n",
    "if not os.path.exists(DATA_PATH):\n",
    "    raise FileNotFoundError(f\"Feature-engineered dataset not found at: {DATA_PATH}\")"
   ]
  },
  {
   "cell_type": "code",
   "execution_count": null,
   "id": "97efdaed",
   "metadata": {},
   "outputs": [],
   "source": [
    "df = pd.read_csv(DATA_PATH)\n",
    "print(f\"Loaded dataset: {df.shape[0]} rows × {df.shape[1]} columns\")\n",
    "df.head()"
   ]
  },
  {
   "cell_type": "code",
   "execution_count": null,
   "id": "9c7fd3fa",
   "metadata": {},
   "outputs": [],
   "source": [
    "features = [\"Mass_kg\", \"Acceleration_ms2\", \"mass_x_acceleration\"]\n",
    "target = \"Force_N\"\n",
    "\n",
    "X = df[features]\n",
    "y = df[target]\n",
    "\n",
    "X_train, X_test, y_train, y_test = train_test_split(\n",
    "    X, y, test_size=0.2, random_state=42\n",
    ")\n",
    "\n",
    "print(f\"Train set: {X_train.shape}, Test set: {X_test.shape}\")"
   ]
  },
  {
   "cell_type": "code",
   "execution_count": null,
   "id": "8f4de067",
   "metadata": {},
   "outputs": [],
   "source": [
    "model = LinearRegression()\n",
    "model.fit(X_train, y_train)\n",
    "\n",
    "print(\"✅ Model trained.\")\n",
    "print(\"Intercept:\", model.intercept_)\n",
    "print(\"Coefficients:\", dict(zip(features, model.coef_)))"
   ]
  },
  {
   "cell_type": "code",
   "execution_count": null,
   "id": "2c56067f",
   "metadata": {},
   "outputs": [],
   "source": [
    "y_pred = model.predict(X_test)\n",
    "\n",
    "mse = mean_squared_error(y_test, y_pred)\n",
    "rmse = np.sqrt(mse)\n",
    "r2 = r2_score(y_test, y_pred)\n",
    "\n",
    "print(f\"📈 R² Score: {r2:.4f}\")\n",
    "print(f\"📉 RMSE: {rmse:.4f}\")"
   ]
  },
  {
   "cell_type": "code",
   "execution_count": null,
   "id": "ec21b377",
   "metadata": {},
   "outputs": [],
   "source": [
    "plt.figure(figsize=(12, 6))\n",
    "sns.scatterplot(x=y_test, y=y_pred, alpha=0.6, color=\"dodgerblue\")\n",
    "plt.plot([y.min(), y.max()], [y.min(), y.max()], '--', color='gray')\n",
    "plt.xlabel(\"Actual Force (N)\")\n",
    "plt.ylabel(\"Predicted Force (N)\")\n",
    "plt.title(\"Actual vs Predicted Force\")\n",
    "plt.tight_layout()\n",
    "plt.show()"
   ]
  },
  {
   "cell_type": "code",
   "execution_count": null,
   "id": "d2d6897b",
   "metadata": {},
   "outputs": [],
   "source": [
    "import joblib\n",
    "os.makedirs(\"../../models/\", exist_ok=True)\n",
    "joblib.dump(model, \"../../models/newtons_law_regression_model.pkl\")\n",
    "print(\"Model saved to models/newtons_law_regression_model.pkl\")\n"
   ]
  }
 ],
 "metadata": {
  "language_info": {
   "name": "python"
  }
 },
 "nbformat": 4,
 "nbformat_minor": 5
}
