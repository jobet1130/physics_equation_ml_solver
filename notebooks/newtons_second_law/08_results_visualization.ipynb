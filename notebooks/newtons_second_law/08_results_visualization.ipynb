{
 "cells": [
  {
   "cell_type": "code",
   "execution_count": null,
   "id": "9ddb8bed",
   "metadata": {},
   "outputs": [],
   "source": [
    "import pandas as pd\n",
    "import numpy as np\n",
    "import os\n",
    "import seaborn as sns\n",
    "import matplotlib.pyplot as plt\n",
    "import joblib\n",
    "\n",
    "from sklearn.model_selection import train_test_split\n",
    "from sklearn.metrics import r2_score\n",
    "\n",
    "sns.set_style(\"whitegrid\")"
   ]
  },
  {
   "cell_type": "code",
   "execution_count": null,
   "id": "9f6cc652",
   "metadata": {},
   "outputs": [],
   "source": [
    "DATA_PATH = \"../../data/processed/newtons_second_law_cleaned_dataset.csv\"\n",
    "MODEL_PATH = \"../../models/newtons_law_regression_model.pkl\"\n",
    "FORMULA_PATH = \"../../results/formulas/newtons_law_symbolic_expression.txt\"\n",
    "\n",
    "\n",
    "if not os.path.exists(DATA_PATH):\n",
    "    raise FileNotFoundError(\"Processed dataset not found.\")\n",
    "\n",
    "if not os.path.exists(MODEL_PATH):\n",
    "    raise FileNotFoundError(\"Trained regression model not found.\")\n",
    "\n",
    "if not os.path.exists(FORMULA_PATH):\n",
    "    raise FileNotFoundError(\"Symbolic regression formula not found.\")"
   ]
  },
  {
   "cell_type": "code",
   "execution_count": null,
   "id": "30e61ea3",
   "metadata": {},
   "outputs": [],
   "source": [
    "df = pd.read_csv(DATA_PATH)\n",
    "reg_model = joblib.load(MODEL_PATH)\n",
    "\n",
    "with open(FORMULA_PATH, \"r\") as f:\n",
    "    symbolic_equation = f.read()"
   ]
  },
  {
   "cell_type": "code",
   "execution_count": null,
   "id": "6bb68e96",
   "metadata": {},
   "outputs": [],
   "source": [
    "features = [\"Mass_kg\", \"Acceleration_ms2\", \"mass_x_acceleration\"]\n",
    "target = \"Force_N\"\n",
    "\n",
    "X = df[features]\n",
    "y = df[target]\n",
    "\n",
    "X_train, X_test, y_train, y_test = train_test_split(\n",
    "    X, y, test_size=0.2, random_state=42\n",
    ")\n",
    "\n",
    "y_pred = reg_model.predict(X_test)\n"
   ]
  },
  {
   "cell_type": "code",
   "execution_count": null,
   "id": "c1e3ac99",
   "metadata": {},
   "outputs": [],
   "source": [
    "plt.figure(figsize=(12, 6))\n",
    "sns.scatterplot(x=y_test, y=y_pred, alpha=0.7, color=\"royalblue\")\n",
    "plt.plot([y.min(), y.max()], [y.min(), y.max()], '--', color='gray')\n",
    "plt.xlabel(\"Actual Force (N)\")\n",
    "plt.ylabel(\"Predicted Force (N)\")\n",
    "plt.title(\"Actual vs Predicted Force (Linear Regression)\")\n",
    "plt.tight_layout()\n",
    "plt.show()\n"
   ]
  },
  {
   "cell_type": "code",
   "execution_count": null,
   "id": "882f3449",
   "metadata": {},
   "outputs": [],
   "source": [
    "residuals = y_test - y_pred\n",
    "\n",
    "plt.figure(figsize=(12, 6))\n",
    "sns.histplot(residuals, kde=True, color=\"crimson\", bins=30)\n",
    "plt.title(\"Residuals Distribution\")\n",
    "plt.xlabel(\"Residuals\")\n",
    "plt.ylabel(\"Frequency\")\n",
    "plt.tight_layout()\n",
    "plt.show()\n"
   ]
  },
  {
   "cell_type": "code",
   "execution_count": null,
   "id": "827b6094",
   "metadata": {},
   "outputs": [],
   "source": [
    "print(\"Symbolic Regression Formula:\\n\")\n",
    "print(symbolic_equation)"
   ]
  },
  {
   "cell_type": "code",
   "execution_count": null,
   "id": "2af24049",
   "metadata": {},
   "outputs": [],
   "source": [
    "fig, axes = plt.subplots(1, 2, figsize=(12, 5))\n",
    "\n",
    "sns.scatterplot(x=y_test, y=y_pred, alpha=0.6, color=\"teal\", ax=axes[0])\n",
    "axes[0].plot([y.min(), y.max()], [y.min(), y.max()], '--', color='gray')\n",
    "axes[0].set_xlabel(\"Actual Force (N)\")\n",
    "axes[0].set_ylabel(\"Predicted Force (N)\")\n",
    "axes[0].set_title(\"Actual vs Predicted\")\n",
    "\n",
    "sns.histplot(residuals, kde=True, color=\"tomato\", bins=25, ax=axes[1])\n",
    "axes[1].set_title(\"Residuals Distribution\")\n",
    "axes[1].set_xlabel(\"Residuals\")\n",
    "\n",
    "plt.tight_layout()\n",
    "plt.savefig(\"../../results/figures/newtons_law_final_visualization.png\")\n",
    "plt.show()\n",
    "print(\"Final visualizations saved to results/figures/\")"
   ]
  }
 ],
 "metadata": {
  "language_info": {
   "name": "python"
  }
 },
 "nbformat": 4,
 "nbformat_minor": 5
}
