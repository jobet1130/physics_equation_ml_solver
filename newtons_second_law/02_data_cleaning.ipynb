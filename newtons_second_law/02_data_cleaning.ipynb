{
 "cells": [
  {
   "cell_type": "code",
   "execution_count": 9,
   "id": "c8f0e37c",
   "metadata": {},
   "outputs": [],
   "source": [
    "import pandas as pd \n",
    "import numpy as np \n",
    "import seaborn as sns \n",
    "import matplotlib.pyplot as plt \n",
    "import os\n",
    "\n",
    "sns.set_style(\"whitegrid\")\n",
    "\n",
    "RAW_PATH = \"../../data/raw/newtons_second_law_dataset.csv\"\n",
    "PROCESSED_PATH = \"../../data/processed/newtons_second_law_cleaned_dataset.csv\"\n",
    "\n",
    "if not os.path.exists(RAW_PATH):\n",
    "    raise FileNotFoundError(f\"Raw dataset not found at: {RAW_PATH}\")"
   ]
  },
  {
   "cell_type": "code",
   "execution_count": 10,
   "id": "6b9876a9",
   "metadata": {},
   "outputs": [
    {
     "name": "stdout",
     "output_type": "stream",
     "text": [
      "🔹 Raw dataset loaded: 3000 rows × 3 columns\n"
     ]
    },
    {
     "data": {
      "application/vnd.microsoft.datawrangler.viewer.v0+json": {
       "columns": [
        {
         "name": "index",
         "rawType": "int64",
         "type": "integer"
        },
        {
         "name": "Mass_kg",
         "rawType": "float64",
         "type": "float"
        },
        {
         "name": "Acceleration_ms2",
         "rawType": "float64",
         "type": "float"
        },
        {
         "name": "Force_N",
         "rawType": "float64",
         "type": "float"
        }
       ],
       "ref": "5318ebf3-70cd-4194-aee5-89727c644e1d",
       "rows": [
        [
         "0",
         "4.058131129049944",
         "13.48678958475707",
         "54.731160644849226"
        ],
        [
         "1",
         "9.531785910894204",
         "15.953959804108308",
         "152.06972928377203"
        ],
        [
         "2",
         "7.453942447208348",
         "5.084311185970729",
         "37.89816296392343"
        ],
        [
         "3",
         "6.187255599871848",
         "12.534994582179277",
         "77.557215422952"
        ],
        [
         "4",
         "1.982177084203147",
         "11.477745064560596",
         "22.750923245297788"
        ]
       ],
       "shape": {
        "columns": 3,
        "rows": 5
       }
      },
      "text/html": [
       "<div>\n",
       "<style scoped>\n",
       "    .dataframe tbody tr th:only-of-type {\n",
       "        vertical-align: middle;\n",
       "    }\n",
       "\n",
       "    .dataframe tbody tr th {\n",
       "        vertical-align: top;\n",
       "    }\n",
       "\n",
       "    .dataframe thead th {\n",
       "        text-align: right;\n",
       "    }\n",
       "</style>\n",
       "<table border=\"1\" class=\"dataframe\">\n",
       "  <thead>\n",
       "    <tr style=\"text-align: right;\">\n",
       "      <th></th>\n",
       "      <th>Mass_kg</th>\n",
       "      <th>Acceleration_ms2</th>\n",
       "      <th>Force_N</th>\n",
       "    </tr>\n",
       "  </thead>\n",
       "  <tbody>\n",
       "    <tr>\n",
       "      <th>0</th>\n",
       "      <td>4.058131</td>\n",
       "      <td>13.486790</td>\n",
       "      <td>54.731161</td>\n",
       "    </tr>\n",
       "    <tr>\n",
       "      <th>1</th>\n",
       "      <td>9.531786</td>\n",
       "      <td>15.953960</td>\n",
       "      <td>152.069729</td>\n",
       "    </tr>\n",
       "    <tr>\n",
       "      <th>2</th>\n",
       "      <td>7.453942</td>\n",
       "      <td>5.084311</td>\n",
       "      <td>37.898163</td>\n",
       "    </tr>\n",
       "    <tr>\n",
       "      <th>3</th>\n",
       "      <td>6.187256</td>\n",
       "      <td>12.534995</td>\n",
       "      <td>77.557215</td>\n",
       "    </tr>\n",
       "    <tr>\n",
       "      <th>4</th>\n",
       "      <td>1.982177</td>\n",
       "      <td>11.477745</td>\n",
       "      <td>22.750923</td>\n",
       "    </tr>\n",
       "  </tbody>\n",
       "</table>\n",
       "</div>"
      ],
      "text/plain": [
       "    Mass_kg  Acceleration_ms2     Force_N\n",
       "0  4.058131         13.486790   54.731161\n",
       "1  9.531786         15.953960  152.069729\n",
       "2  7.453942          5.084311   37.898163\n",
       "3  6.187256         12.534995   77.557215\n",
       "4  1.982177         11.477745   22.750923"
      ]
     },
     "execution_count": 10,
     "metadata": {},
     "output_type": "execute_result"
    }
   ],
   "source": [
    "\n",
    "df = pd.read_csv(RAW_PATH)\n",
    "print(f\"🔹 Raw dataset loaded: {df.shape[0]} rows × {df.shape[1]} columns\")\n",
    "df.head()"
   ]
  },
  {
   "cell_type": "code",
   "execution_count": 11,
   "id": "3bc7e17a",
   "metadata": {},
   "outputs": [
    {
     "name": "stdout",
     "output_type": "stream",
     "text": [
      "Missing values:\n",
      " Mass_kg             0\n",
      "Acceleration_ms2    0\n",
      "Force_N             0\n",
      "dtype: int64\n",
      "✅ No missing values found.\n"
     ]
    }
   ],
   "source": [
    "missing = df.isnull().sum()\n",
    "print(\"Missing values:\\n\", missing)\n",
    "\n",
    "if missing.sum() == 0:\n",
    "    print(\"✅ No missing values found.\")\n",
    "else:\n",
    "    print(\"⚠️ Warning: Missing values detected.\")"
   ]
  },
  {
   "cell_type": "code",
   "execution_count": 12,
   "id": "76827487",
   "metadata": {},
   "outputs": [
    {
     "name": "stdout",
     "output_type": "stream",
     "text": [
      "✅ All columns are numeric.\n"
     ]
    }
   ],
   "source": [
    "if not all(np.issubdtype(df[col].dtype, np.number) for col in df.columns):\n",
    "    print(\"⚠️ Non-numeric columns found.\")\n",
    "else:\n",
    "    print(\"✅ All columns are numeric.\")"
   ]
  },
  {
   "cell_type": "code",
   "execution_count": 13,
   "id": "52fd9866",
   "metadata": {},
   "outputs": [
    {
     "name": "stdout",
     "output_type": "stream",
     "text": [
      "⚠️ Invalid rows to drop: 0\n",
      "✅ Cleaned dataset shape: (3000, 3)\n"
     ]
    }
   ],
   "source": [
    "df_cleaned = df.copy()\n",
    "\n",
    "invalid = df_cleaned[(df_cleaned[\"Mass_kg\"] <= 0) | (df_cleaned[\"Acceleration_ms2\"] <= 0)]\n",
    "print(f\"⚠️ Invalid rows to drop: {invalid.shape[0]}\")\n",
    "\n",
    "df_cleaned = df_cleaned[(df_cleaned[\"Mass_kg\"] > 0) & (df_cleaned[\"Acceleration_ms2\"] > 0)]\n",
    "print(f\"✅ Cleaned dataset shape: {df_cleaned.shape}\")"
   ]
  },
  {
   "cell_type": "code",
   "execution_count": 14,
   "id": "d3494ef8",
   "metadata": {},
   "outputs": [
    {
     "name": "stdout",
     "output_type": "stream",
     "text": [
      "✅ Removed 0 rows due to force inconsistency.\n"
     ]
    }
   ],
   "source": [
    "df_cleaned[\"recomputed_force\"] = df_cleaned[\"Mass_kg\"] * df_cleaned[\"Acceleration_ms2\"]\n",
    "df_cleaned[\"error\"] = np.abs(df_cleaned[\"recomputed_force\"] - df_cleaned[\"Force_N\"])\n",
    "\n",
    "tolerance = 1e-6\n",
    "initial = df_cleaned.shape[0]\n",
    "df_cleaned = df_cleaned[df_cleaned[\"error\"] < tolerance]\n",
    "print(f\"✅ Removed {initial - df_cleaned.shape[0]} rows due to force inconsistency.\")"
   ]
  },
  {
   "cell_type": "code",
   "execution_count": 15,
   "id": "64cb2f23",
   "metadata": {},
   "outputs": [
    {
     "name": "stdout",
     "output_type": "stream",
     "text": [
      "✅ Cleaned dataset saved to: ../../data/processed/newtons_second_law_cleaned_dataset.csv\n"
     ]
    }
   ],
   "source": [
    "df_cleaned.drop(columns=[\"recomputed_force\", \"error\"], inplace=True)\n",
    "\n",
    "os.makedirs(os.path.dirname(PROCESSED_PATH), exist_ok=True)\n",
    "\n",
    "df_cleaned.to_csv(PROCESSED_PATH, index=False)\n",
    "print(f\"✅ Cleaned dataset saved to: {PROCESSED_PATH}\")\n"
   ]
  },
  {
   "cell_type": "code",
   "execution_count": 16,
   "id": "25754ac6",
   "metadata": {},
   "outputs": [
    {
     "data": {
      "image/png": "[encoded data removed]",
      "text/plain": [
       "<Figure size 1400x400 with 3 Axes>"
      ]
     },
     "metadata": {},
     "output_type": "display_data"
    }
   ],
   "source": [
    "plt.figure(figsize=(14, 4))\n",
    "\n",
    "plt.subplot(1, 3, 1)\n",
    "sns.histplot(df_cleaned[\"Mass_kg\"], bins=30, color=\"dodgerblue\")\n",
    "plt.title(\"Mass (kg) - Cleaned\")\n",
    "\n",
    "plt.subplot(1, 3, 2)\n",
    "sns.histplot(df_cleaned[\"Acceleration_ms2\"], bins=30, color=\"tomato\")\n",
    "plt.title(\"Acceleration (m/s²) - Cleaned\")\n",
    "\n",
    "plt.subplot(1, 3, 3)\n",
    "sns.histplot(df_cleaned[\"Force_N\"], bins=30, color=\"mediumseagreen\")\n",
    "plt.title(\"Force (N) - Cleaned\")\n",
    "\n",
    "plt.tight_layout()\n",
    "plt.show()"
   ]
  }
 ],
 "metadata": {
  "kernelspec": {
   "display_name": "base",
   "language": "python",
   "name": "python3"
  },
  "language_info": {
   "codemirror_mode": {
    "name": "ipython",
    "version": 3
   },
   "file_extension": ".py",
   "mimetype": "text/x-python",
   "name": "python",
   "nbconvert_exporter": "python",
   "pygments_lexer": "ipython3",
   "version": "3.12.7"
  }
 },
 "nbformat": 4,
 "nbformat_minor": 5
}
